{
    "cells": [
        {
            "cell_type": "markdown",
            "metadata": {
                "collapsed": true
            },
            "source": "Required data files"
        },
        {
            "cell_type": "markdown",
            "metadata": {},
            "source": "wget \"https://cf-courses-data.s3.us.cloud-object-storage.appdomain.cloud/IBM-DS0321EN-SkillsNetwork/datasets/spacex_launch_dash.csv\""
        },
        {
            "cell_type": "markdown",
            "metadata": {},
            "source": "wget \"https://cf-courses-data.s3.us.cloud-object-storage.appdomain.cloud/IBM-DS0321EN-SkillsNetwork/labs/module_3/spacex_dash_app.py\""
        },
        {
            "cell_type": "code",
            "execution_count": null,
            "metadata": {},
            "outputs": [],
            "source": "# Import required libraries\nimport pandas as pd\nimport dash\nimport dash_html_components as html\nimport dash_core_components as dcc\nfrom dash.dependencies import Input, Output\nimport plotly.express as px\n\n# Read the airline data into pandas dataframe\nspacex_df = pd.read_csv(\"spacex_launch_dash.csv\")\nmax_payload = spacex_df['Payload Mass (kg)'].max()\nmin_payload = spacex_df['Payload Mass (kg)'].min()\n\n# print(spacex_df[['Launch Site']].groupby('Launch Site', as_index=False).sum())\nsite_list = {}\nfor site in spacex_df[['Launch Site']].groupby('Launch Site', as_index=False).sum().iterrows():\n    site_list['site'+ str(site[0]+1)] = site[1].to_list()[0]\n# print(site_list)\n\ndef site_data(site_name):\n    location_name = site_list[site_name]\n    site_loc_data = spacex_df[spacex_df['Launch Site'] == location_name]\n    site_loc_data['classstr'] = 1\n    return site_loc_data \n# print(site_data('site2').to_string())\ndef payload_fun(site_name,payload_slider):\n    if site_name == 'ALL':\n        return spacex_df[spacex_df['Payload Mass (kg)'].between(payload_slider[0], payload_slider[1])]\n    else:\n        payload_fun_data = site_data(site_name)\n        return payload_fun_data[payload_fun_data['Payload Mass (kg)'].between(payload_slider[0], payload_slider[1])]\n    \n# print(payload_fun('site2',[10,9000]).to_string())\n# Create a dash application\napp = dash.Dash(__name__)\n\n# Create an app layout\napp.layout = html.Div(children=[html.H1('SpaceX Launch Records Dashboard',\n                                        style={'textAlign': 'center', 'color': '#503D36',\n                                               'font-size': 40}),\n                                # TASK 1: Add a dropdown list to enable Launch Site selection\n                                # The default select value is for ALL sites\n                                # dcc.Dropdown(id='site-dropdown',...)\n                                dcc.Dropdown(id='site-dropdown', options=[{'label': 'All Sites', 'value': 'ALL'},{'label': site_list['site1'], 'value': 'site1'},{'label': site_list['site2'], 'value': 'site2'},{'label': site_list['site3'], 'value': 'site3'},{'label': site_list['site4'], 'value': 'site4'}], value='ALL', placeholder='Select a Launch Site here', searchable=True),\n                                html.Br(),\n\n                                # TASK 2: Add a pie chart to show the total successful launches count for all sites\n                                # If a specific launch site was selected, show the Success vs. Failed counts for the site\n                                \n                                html.Div(dcc.Graph(id='success-pie-chart')),\n                                html.Br(),\n\n                                html.P(\"Payload range (Kg):\"),\n                                # TASK 3: Add a slider to select payload range\n                                #dcc.RangeSlider(id='payload-slider',...)\n                                dcc.RangeSlider(id='payload-slider', min=0, max=10000, step=1000, value=[min_payload,max_payload]),\n\n                                # TASK 4: Add a scatter chart to show the correlation between payload and launch success\n                                html.Div(dcc.Graph(id='success-payload-scatter-chart')),\n                                ])\n\n# TASK 2:\n# Add a callback function for `site-dropdown` as input, `success-pie-chart` as output\n@app.callback(Output(component_id='success-pie-chart', component_property='figure'),\n           # Output(component_id='success-payload-scatter-chart', component_property='figure'),\n                Input(component_id='site-dropdown', component_property='value'),)\n               #  Input(component_id=\"payload-slider\", component_property=\"value\"))\n           \n\ndef get_graph(entered_site):\n    filtered_df = spacex_df\n    if entered_site == 'ALL':\n        fig = px.pie(filtered_df, values='class', names='Launch Site', title='Total Successful Flights From All Launch Pads')\n        return fig\n    else:\n        # return the outcomes piechart for a selected site\n        fig = px.pie(site_data(entered_site), values='classstr', names='class',  title='Total Success & Failure Launch From '+str(site_list[entered_site]))\n        # fig = px.pie(pd.DataFrame({'class':['10','0']}), values='class', names='class',  title='title')\n        return fig\n\n\n\n@app.callback(Output(component_id='success-payload-scatter-chart', component_property='figure'),\n                Input(component_id='site-dropdown', component_property='value'),\n               Input(component_id=\"payload-slider\", component_property=\"value\"))\n\n# TASK 4:\n# Add a callback function for `site-dropdown` and `payload-slider` as inputs, `success-payload-scatter-chart` as output\ndef get_scatter_plot(entered_site,entered_payload):\n    filtered_df = spacex_df\n    if entered_site == 'ALL':\n        fig = px.scatter(payload_fun(entered_site,entered_payload), x='Payload Mass (kg)', y='class', color=\"Booster Version Category\", \n        title='Correlation b/w Sucess & All Landing Sites')\n        return fig\n    else:\n        # return the outcomes piechart for a selected site\n        fig = px.scatter(payload_fun(entered_site,entered_payload), x='Payload Mass (kg)', y='class', color=\"Booster Version Category\", \n        title='Correlation b/w Sucess & '+str(site_list[entered_site]))\n        return fig\n\n# Run the app\nif __name__ == '__main__':\n    app.run_server()\n"
        }
    ],
    "metadata": {
        "kernelspec": {
            "display_name": "Python 3.8",
            "language": "python",
            "name": "python3"
        },
        "language_info": {
            "codemirror_mode": {
                "name": "ipython",
                "version": 3
            },
            "file_extension": ".py",
            "mimetype": "text/x-python",
            "name": "python",
            "nbconvert_exporter": "python",
            "pygments_lexer": "ipython3",
            "version": "3.8.12"
        }
    },
    "nbformat": 4,
    "nbformat_minor": 1
}